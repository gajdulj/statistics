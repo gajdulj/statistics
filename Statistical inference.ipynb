{
 "cells": [
  {
   "cell_type": "markdown",
   "metadata": {},
   "source": [
    "# Statistical Inference"
   ]
  },
  {
   "cell_type": "markdown",
   "metadata": {},
   "source": [
    "#### Question 1: Calculate probability of 3 or less heads out of 10 fair coin flips"
   ]
  },
  {
   "cell_type": "code",
   "execution_count": 1,
   "metadata": {},
   "outputs": [],
   "source": [
    "from math import factorial\n",
    "\n",
    "def binominal_coefficients(n,k):\n",
    "    \"\"\"\n",
    "    Get number of ways of picking k unordered outcomes from n possibilities.\n",
    "        args:\n",
    "        n- total number of events\n",
    "        k- number of events with specified outcome\n",
    "    \"\"\"\n",
    "    coeff = factorial(n)/(factorial(k)*factorial(n-k))\n",
    "    return coeff"
   ]
  },
  {
   "cell_type": "code",
   "execution_count": 2,
   "metadata": {},
   "outputs": [],
   "source": [
    "possible_outcomes = 2**10"
   ]
  },
  {
   "cell_type": "code",
   "execution_count": 3,
   "metadata": {},
   "outputs": [],
   "source": [
    "# less than 3 scenarios: three heads, two heads, one head, no heads\n",
    "less_three_heads = binominal_coefficients(10,3)+ \\\n",
    "    binominal_coefficients(10,2)+ \\\n",
    "    binominal_coefficients(10,1)+ \\\n",
    "    binominal_coefficients(10,0)"
   ]
  },
  {
   "cell_type": "code",
   "execution_count": 4,
   "metadata": {},
   "outputs": [
    {
     "data": {
      "text/plain": [
       "0.171875"
      ]
     },
     "execution_count": 4,
     "metadata": {},
     "output_type": "execute_result"
    }
   ],
   "source": [
    "less_three_heads/possible_outcomes"
   ]
  },
  {
   "cell_type": "code",
   "execution_count": null,
   "metadata": {},
   "outputs": [],
   "source": []
  }
 ],
 "metadata": {
  "kernelspec": {
   "display_name": "Python 3",
   "language": "python",
   "name": "python3"
  },
  "language_info": {
   "codemirror_mode": {
    "name": "ipython",
    "version": 3
   },
   "file_extension": ".py",
   "mimetype": "text/x-python",
   "name": "python",
   "nbconvert_exporter": "python",
   "pygments_lexer": "ipython3",
   "version": "3.7.6"
  }
 },
 "nbformat": 4,
 "nbformat_minor": 4
}
